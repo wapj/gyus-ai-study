{
 "cells": [
  {
   "cell_type": "code",
   "execution_count": 2,
   "id": "60401e05-00d8-4bb0-a967-005bb1d63bad",
   "metadata": {},
   "outputs": [
    {
     "data": {
      "text/plain": [
       "array([3., 6., 9.])"
      ]
     },
     "execution_count": 2,
     "metadata": {},
     "output_type": "execute_result"
    }
   ],
   "source": [
    "# numpy 연산 테스트\n",
    "import numpy as np\n",
    "\n",
    "x = np.array([1.0, 2.0, 3.0])\n",
    "y = np.array([2.0, 4.0, 6.0])\n",
    "\n",
    "x + y "
   ]
  },
  {
   "cell_type": "code",
   "execution_count": 3,
   "id": "934ef4d7-22e2-45bb-a226-98561d076fa3",
   "metadata": {},
   "outputs": [
    {
     "data": {
      "text/plain": [
       "array([-1., -2., -3.])"
      ]
     },
     "execution_count": 3,
     "metadata": {},
     "output_type": "execute_result"
    }
   ],
   "source": [
    "x - y "
   ]
  },
  {
   "cell_type": "code",
   "execution_count": 4,
   "id": "6cdb5c63-173f-4224-b3c9-bba3ecf09df5",
   "metadata": {},
   "outputs": [
    {
     "data": {
      "text/plain": [
       "array([ 2.,  8., 18.])"
      ]
     },
     "execution_count": 4,
     "metadata": {},
     "output_type": "execute_result"
    }
   ],
   "source": [
    "x * y "
   ]
  },
  {
   "cell_type": "code",
   "execution_count": 5,
   "id": "4a24da20-d6bc-471f-beb5-a0173545df01",
   "metadata": {},
   "outputs": [
    {
     "data": {
      "text/plain": [
       "array([0.5, 0.5, 0.5])"
      ]
     },
     "execution_count": 5,
     "metadata": {},
     "output_type": "execute_result"
    }
   ],
   "source": [
    "x / y "
   ]
  },
  {
   "cell_type": "markdown",
   "id": "2d22519e-177e-468b-9ef0-3f5b5e05f951",
   "metadata": {},
   "source": [
    "## 넘파이의 N차원 배열\n",
    "\n",
    "넘파이로 다차원 배열을 만들 수 있다. \n",
    "\n"
   ]
  },
  {
   "cell_type": "code",
   "execution_count": 9,
   "id": "cc39f5d3-9927-4600-bb64-f8628af19f68",
   "metadata": {},
   "outputs": [
    {
     "name": "stdout",
     "output_type": "stream",
     "text": [
      "[[1 2]\n",
      " [3 4]]\n",
      "(2, 2)\n",
      "int64\n",
      "[[4 2]\n",
      " [7 4]]\n"
     ]
    }
   ],
   "source": [
    "# two dimentional array\n",
    "a = np.array([[1,2], [3,4]])\n",
    "print(a)\n",
    "\n",
    "# 행렬의 형태 \n",
    "print(a.shape)\n",
    "\n",
    "# 행렬에 담긴 원소의 자료형\n",
    "print(a.dtype)\n",
    "\n",
    "# 형태가 같다면 행렬의 산술 연산이 가능하다. \n",
    "\n",
    "b = np.array([[3,0], [4,0]])\n",
    "\n",
    "print(a + b)"
   ]
  }
 ],
 "metadata": {
  "kernelspec": {
   "display_name": "Python 3 (ipykernel)",
   "language": "python",
   "name": "python3"
  },
  "language_info": {
   "codemirror_mode": {
    "name": "ipython",
    "version": 3
   },
   "file_extension": ".py",
   "mimetype": "text/x-python",
   "name": "python",
   "nbconvert_exporter": "python",
   "pygments_lexer": "ipython3",
   "version": "3.11.9"
  }
 },
 "nbformat": 4,
 "nbformat_minor": 5
}
