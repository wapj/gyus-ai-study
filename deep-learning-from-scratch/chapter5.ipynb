{
 "cells": [
  {
   "cell_type": "code",
   "id": "initial_id",
   "metadata": {
    "collapsed": true,
    "ExecuteTime": {
     "end_time": "2024-10-15T05:51:26.671901Z",
     "start_time": "2024-10-15T05:51:26.668370Z"
    }
   },
   "source": [
    "class MulLayer:\n",
    "    def __init__(self):\n",
    "        self.x = None\n",
    "        self.y = None\n",
    "\n",
    "    def forward(self, x, y):\n",
    "        self.x = x\n",
    "        self.y = y\n",
    "        out = x * y\n",
    "        return out\n",
    "    \n",
    "    def backward(self, dout):\n",
    "        dx = dout * self.y\n",
    "        dy = dout * self.x\n",
    "        return dx, dy\n",
    "    \n",
    "\n",
    "apple = 100\n",
    "apple_num = 2 \n",
    "tax = 1.1\n",
    "\n",
    "mul_apple_layer = MulLayer()\n",
    "mul_tax_layer = MulLayer()\n",
    "\n",
    "apple_price = mul_apple_layer.forward(apple, apple_num)\n",
    "price = mul_tax_layer.forward(apple_price, tax)\n",
    "\n",
    "dprice = 1\n",
    "dapple_price, dtax = mul_tax_layer.backward(dprice)\n",
    "dapple, dapple_num = mul_apple_layer.backward(dapple_price)\n",
    "\n",
    "print(f\"price : {int(price)}\")\n",
    "print(f\"dApple : {int(dapple)}\")\n",
    "print(f\"dApple_num : {int(dapple_num)}\")\n",
    "print(f\"dTax : {dtax}\")"
   ],
   "outputs": [
    {
     "name": "stdout",
     "output_type": "stream",
     "text": [
      "price : 220\n",
      "dApple : 2\n",
      "dApple_num : 110\n",
      "dTax : 200\n"
     ]
    }
   ],
   "execution_count": 3
  },
  {
   "metadata": {
    "ExecuteTime": {
     "end_time": "2024-10-15T06:17:48.544338Z",
     "start_time": "2024-10-15T06:17:48.539960Z"
    }
   },
   "cell_type": "code",
   "source": [
    "from common.layers import Affine\n",
    "import numpy as np\n",
    "x = np.array([[1,1]])\n",
    "W = np.array([[1,2,3], [4,5,6]])\n",
    "b = np.array([7,8,9])\n",
    "\n",
    "지출 = Affine(W, b)\n",
    "지출.forward(x)\n",
    "\n",
    "지출.backward([[2,1,-1]])"
   ],
   "id": "d09a7192b629d661",
   "outputs": [
    {
     "data": {
      "text/plain": [
       "array([[1, 7]])"
      ]
     },
     "execution_count": 7,
     "metadata": {},
     "output_type": "execute_result"
    }
   ],
   "execution_count": 7
  }
 ],
 "metadata": {
  "kernelspec": {
   "display_name": "Python 3",
   "language": "python",
   "name": "python3"
  },
  "language_info": {
   "codemirror_mode": {
    "name": "ipython",
    "version": 2
   },
   "file_extension": ".py",
   "mimetype": "text/x-python",
   "name": "python",
   "nbconvert_exporter": "python",
   "pygments_lexer": "ipython2",
   "version": "2.7.6"
  }
 },
 "nbformat": 4,
 "nbformat_minor": 5
}
